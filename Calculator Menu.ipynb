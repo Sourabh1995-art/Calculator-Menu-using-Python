{
 "cells": [
  {
   "cell_type": "markdown",
   "id": "b4f46c33",
   "metadata": {},
   "source": [
    "# Calculator"
   ]
  },
  {
   "cell_type": "code",
   "execution_count": 1,
   "id": "5a0cb82d",
   "metadata": {},
   "outputs": [
    {
     "name": "stdout",
     "output_type": "stream",
     "text": [
      "Calculator Menu:\n",
      "1. Add\n",
      "2. Subtract\n",
      "3. Multiply\n",
      "4. Divide\n",
      "5. Exit\n",
      "Enter your choice: 4\n",
      "Enter the first number: 12\n",
      "Enter the second number: 19\n",
      "Result: 0.631578947368421\n",
      "Calculator Menu:\n",
      "1. Add\n",
      "2. Subtract\n",
      "3. Multiply\n",
      "4. Divide\n",
      "5. Exit\n",
      "Enter your choice: 5\n",
      "Exiting the calculator.\n"
     ]
    }
   ],
   "source": [
    "def add(x, y):\n",
    "    return x + y\n",
    "\n",
    "def subtract(x, y):\n",
    "    return x - y\n",
    "\n",
    "def multiply(x, y):\n",
    "    return x * y\n",
    "\n",
    "def divide(x, y):\n",
    "    if y != 0:\n",
    "        return x / y\n",
    "    else:\n",
    "        return \"Error: Cannot divide by zero\"\n",
    "\n",
    "def display_menu():\n",
    "    print(\"Calculator Menu:\")\n",
    "    print(\"1. Add\")\n",
    "    print(\"2. Subtract\")\n",
    "    print(\"3. Multiply\")\n",
    "    print(\"4. Divide\")\n",
    "    print(\"5. Exit\")\n",
    "\n",
    "def get_user_choice():\n",
    "    while True:\n",
    "        try:\n",
    "            choice = int(input(\"Enter your choice: \"))\n",
    "            if choice < 1 or choice > 5:\n",
    "                print(\"Invalid choice. Please enter a number between 1 and 5.\")\n",
    "            else:\n",
    "                return choice\n",
    "        except ValueError:\n",
    "            print(\"Invalid choice. Please enter a number.\")\n",
    "\n",
    "def get_user_numbers():\n",
    "    while True:\n",
    "        try:\n",
    "            num1 = float(input(\"Enter the first number: \"))\n",
    "            num2 = float(input(\"Enter the second number: \"))\n",
    "            return num1, num2\n",
    "        except ValueError:\n",
    "            print(\"Invalid input. Please enter numbers.\")\n",
    "\n",
    "def calculate(choice, num1, num2):\n",
    "    if choice == 1:\n",
    "        return add(num1, num2)\n",
    "    elif choice == 2:\n",
    "        return subtract(num1, num2)\n",
    "    elif choice == 3:\n",
    "        return multiply(num1, num2)\n",
    "    else:\n",
    "        return divide(num1, num2)\n",
    "\n",
    "def main():\n",
    "    while True:\n",
    "        display_menu()\n",
    "        choice = get_user_choice()\n",
    "\n",
    "        if choice == 5:\n",
    "            print(\"Exiting the calculator.\")\n",
    "            break\n",
    "\n",
    "        num1, num2 = get_user_numbers()\n",
    "        result = calculate(choice, num1, num2)\n",
    "        print(\"Result:\", result)\n",
    "\n",
    "if __name__ == \"__main__\":\n",
    "    main()\n"
   ]
  },
  {
   "cell_type": "code",
   "execution_count": null,
   "id": "7acafb75",
   "metadata": {},
   "outputs": [],
   "source": []
  }
 ],
 "metadata": {
  "kernelspec": {
   "display_name": "Python 3 (ipykernel)",
   "language": "python",
   "name": "python3"
  },
  "language_info": {
   "codemirror_mode": {
    "name": "ipython",
    "version": 3
   },
   "file_extension": ".py",
   "mimetype": "text/x-python",
   "name": "python",
   "nbconvert_exporter": "python",
   "pygments_lexer": "ipython3",
   "version": "3.9.12"
  }
 },
 "nbformat": 4,
 "nbformat_minor": 5
}
